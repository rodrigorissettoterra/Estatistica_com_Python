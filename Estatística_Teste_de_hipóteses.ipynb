{
  "nbformat": 4,
  "nbformat_minor": 0,
  "metadata": {
    "colab": {
      "provenance": [],
      "toc_visible": true,
      "mount_file_id": "1n5GAjMhgUdkjArsGLcgIxt5zRlODXjtW",
      "authorship_tag": "ABX9TyPWwQyGECeUK91N1NKu91il",
      "include_colab_link": true
    },
    "kernelspec": {
      "name": "python3",
      "display_name": "Python 3"
    },
    "language_info": {
      "name": "python"
    }
  },
  "cells": [
    {
      "cell_type": "markdown",
      "metadata": {
        "id": "view-in-github",
        "colab_type": "text"
      },
      "source": [
        "<a href=\"https://colab.research.google.com/github/rodrigorissettoterra/Estatistica_descritiva_com_Python/blob/main/Estat%C3%ADstica_Teste_de_hip%C3%B3teses.ipynb\" target=\"_parent\"><img src=\"https://colab.research.google.com/assets/colab-badge.svg\" alt=\"Open In Colab\"/></a>"
      ]
    },
    {
      "cell_type": "markdown",
      "source": [
        "#Estatística: Teste de Hipóteses com Python"
      ],
      "metadata": {
        "id": "-nUSZUb2VpfT"
      }
    },
    {
      "cell_type": "markdown",
      "source": [
        "Site referência: https://www.ibge.gov.br/estatisticas/sociais/trabalho/9127-pesquisa-nacional-por-amostra-de-domicilios.html?=&t=microdados"
      ],
      "metadata": {
        "id": "eGyN8c6rVu9f"
      }
    },
    {
      "cell_type": "markdown",
      "source": [
        "##Variáveis utilizadas"
      ],
      "metadata": {
        "id": "tO0KYaRXVxLc"
      }
    },
    {
      "cell_type": "markdown",
      "source": [
        "**Renda:** Rendimento mensal do trabalho principal para pessoas de 10 anos ou mais de idade.</br></br>\n",
        "**Idade:** Idade do morador na data de referência em anos.</br></br>\n",
        "**Altura:** Altura do morador em metros.</br></br>\n",
        "**UF:**</br>\n",
        "\n",
        "|Código|Descrição|\n",
        "|---|---|\n",
        "|11|Rondônia|\n",
        "|12|Acre|\n",
        "|13|Amazonas|\n",
        "|14|Roraima|\n",
        "|15|Pará|\n",
        "|16|Amapá|\n",
        "|17|Tocantins|\n",
        "|21|Maranhão|\n",
        "|22|Piauí|\n",
        "|23|Ceará|\n",
        "|24|Rio Grande do Norte|\n",
        "|25|Paraíba|\n",
        "|26|Pernambuco|\n",
        "|27|Alagoas|\n",
        "|28|Sergipe|\n",
        "|29|Bahia|\n",
        "|31|Minas Gerais|\n",
        "|32|Espírito Santo|\n",
        "|33|Rio de Janeiro|\n",
        "|35|São Paulo|\n",
        "|41|Paraná|\n",
        "|42|Santa Catarina|\n",
        "|43|Rio Grande do Sul|\n",
        "|50|Mato Grosso do Sul|\n",
        "|51|Mato Grosso|\n",
        "|52|Goiás|\n",
        "|53|Distrito Federal|\n",
        "\n",
        "</br></br>\n",
        "**Sexo**\n",
        "\n",
        "|Código|Descrição|\n",
        "|---|---|\n",
        "|0|Masculino|\n",
        "|1|Feminino|\n",
        "\n",
        "</br></br>\n",
        "**Anos de Estudo**\n",
        "\n",
        "|Código|Descrição|\n",
        "|---|---|\n",
        "|1|Sem instrução e menos de 1 ano|\n",
        "|2|1 ano|\n",
        "|3|2 anos|\n",
        "|4|3 anos|\n",
        "|5|4 anos|\n",
        "|6|5 anos|\n",
        "|7|6 anos|\n",
        "|8|7 anos|\n",
        "|9|8 anos|\n",
        "|10|9 anos|\n",
        "|11|10 anos|\n",
        "|12|11 anos|\n",
        "|13|12 anos|\n",
        "|14|13 anos|\n",
        "|15|14 anos|\n",
        "|16|15 anos ou mais|\n",
        "|17|Não determinados| \n",
        "||Não aplicável|\n",
        "\n",
        "</br></br>\n",
        "**Cor**\n",
        "\n",
        "|Código|Descrição|\n",
        "|---|---|\n",
        "|0|Indígena|\n",
        "|2|Branca|\n",
        "|4|Preta|\n",
        "|6|Amarela|\n",
        "|8|Parda|\n",
        "|9|Sem declaração|"
      ],
      "metadata": {
        "id": "e5ZJ52BDVxAy"
      }
    },
    {
      "cell_type": "markdown",
      "source": [
        "##Observação sobre a base de dados\n",
        "\n",
        "> Os seguintes tratamentos foram realizados nos dados originais:\n",
        "> 1. Foram eliminados os registros onde a <b>Renda</b> era inválida (999 999 999 999);\n",
        "> 2. Foram eliminados os registros onde a <b>Renda</b> era missing;\n",
        "> 3. Foram considerados somente os registros das <b>Pessoas de Referência</b> de cada domicílio (responsável pelo domicílio)."
      ],
      "metadata": {
        "id": "kmzFoO6eV2lt"
      }
    },
    {
      "cell_type": "markdown",
      "source": [
        "#Preparando o ambiente"
      ],
      "metadata": {
        "id": "L-KKK6gLV5_Q"
      }
    },
    {
      "cell_type": "markdown",
      "source": [
        "##Importando as bibliotecas necessárias"
      ],
      "metadata": {
        "id": "0am9g3baV9_U"
      }
    },
    {
      "cell_type": "code",
      "execution_count": 1,
      "metadata": {
        "id": "NX8xkV9KS3RF"
      },
      "outputs": [],
      "source": [
        "import pandas as pd\n",
        "import numpy as np\n",
        "from scipy.stats import normaltest"
      ]
    },
    {
      "cell_type": "markdown",
      "source": [
        "##Carregando a base de dados"
      ],
      "metadata": {
        "id": "9zRRjYQdWH_A"
      }
    },
    {
      "cell_type": "code",
      "source": [
        "dados = pd.read_csv('/content/drive/MyDrive/Base de dados/IBGE/dados.csv')\n",
        "dados.head()"
      ],
      "metadata": {
        "colab": {
          "base_uri": "https://localhost:8080/",
          "height": 206
        },
        "id": "BGnOrWVGWHgN",
        "outputId": "9b1102e0-b227-41a4-fc47-612ad6dcec9f"
      },
      "execution_count": 2,
      "outputs": [
        {
          "output_type": "execute_result",
          "data": {
            "text/plain": [
              "   UF  Sexo  Idade  Cor  Anos de Estudo  Renda    Altura\n",
              "0  11     0     23    8              12    800  1.603808\n",
              "1  11     1     23    2              12   1150  1.739790\n",
              "2  11     1     35    8              15    880  1.760444\n",
              "3  11     0     46    2               6   3500  1.783158\n",
              "4  11     1     47    8               9    150  1.690631"
            ],
            "text/html": [
              "\n",
              "  <div id=\"df-bd8128d1-97fc-4cf2-ba68-49a4308a8beb\">\n",
              "    <div class=\"colab-df-container\">\n",
              "      <div>\n",
              "<style scoped>\n",
              "    .dataframe tbody tr th:only-of-type {\n",
              "        vertical-align: middle;\n",
              "    }\n",
              "\n",
              "    .dataframe tbody tr th {\n",
              "        vertical-align: top;\n",
              "    }\n",
              "\n",
              "    .dataframe thead th {\n",
              "        text-align: right;\n",
              "    }\n",
              "</style>\n",
              "<table border=\"1\" class=\"dataframe\">\n",
              "  <thead>\n",
              "    <tr style=\"text-align: right;\">\n",
              "      <th></th>\n",
              "      <th>UF</th>\n",
              "      <th>Sexo</th>\n",
              "      <th>Idade</th>\n",
              "      <th>Cor</th>\n",
              "      <th>Anos de Estudo</th>\n",
              "      <th>Renda</th>\n",
              "      <th>Altura</th>\n",
              "    </tr>\n",
              "  </thead>\n",
              "  <tbody>\n",
              "    <tr>\n",
              "      <th>0</th>\n",
              "      <td>11</td>\n",
              "      <td>0</td>\n",
              "      <td>23</td>\n",
              "      <td>8</td>\n",
              "      <td>12</td>\n",
              "      <td>800</td>\n",
              "      <td>1.603808</td>\n",
              "    </tr>\n",
              "    <tr>\n",
              "      <th>1</th>\n",
              "      <td>11</td>\n",
              "      <td>1</td>\n",
              "      <td>23</td>\n",
              "      <td>2</td>\n",
              "      <td>12</td>\n",
              "      <td>1150</td>\n",
              "      <td>1.739790</td>\n",
              "    </tr>\n",
              "    <tr>\n",
              "      <th>2</th>\n",
              "      <td>11</td>\n",
              "      <td>1</td>\n",
              "      <td>35</td>\n",
              "      <td>8</td>\n",
              "      <td>15</td>\n",
              "      <td>880</td>\n",
              "      <td>1.760444</td>\n",
              "    </tr>\n",
              "    <tr>\n",
              "      <th>3</th>\n",
              "      <td>11</td>\n",
              "      <td>0</td>\n",
              "      <td>46</td>\n",
              "      <td>2</td>\n",
              "      <td>6</td>\n",
              "      <td>3500</td>\n",
              "      <td>1.783158</td>\n",
              "    </tr>\n",
              "    <tr>\n",
              "      <th>4</th>\n",
              "      <td>11</td>\n",
              "      <td>1</td>\n",
              "      <td>47</td>\n",
              "      <td>8</td>\n",
              "      <td>9</td>\n",
              "      <td>150</td>\n",
              "      <td>1.690631</td>\n",
              "    </tr>\n",
              "  </tbody>\n",
              "</table>\n",
              "</div>\n",
              "      <button class=\"colab-df-convert\" onclick=\"convertToInteractive('df-bd8128d1-97fc-4cf2-ba68-49a4308a8beb')\"\n",
              "              title=\"Convert this dataframe to an interactive table.\"\n",
              "              style=\"display:none;\">\n",
              "        \n",
              "  <svg xmlns=\"http://www.w3.org/2000/svg\" height=\"24px\"viewBox=\"0 0 24 24\"\n",
              "       width=\"24px\">\n",
              "    <path d=\"M0 0h24v24H0V0z\" fill=\"none\"/>\n",
              "    <path d=\"M18.56 5.44l.94 2.06.94-2.06 2.06-.94-2.06-.94-.94-2.06-.94 2.06-2.06.94zm-11 1L8.5 8.5l.94-2.06 2.06-.94-2.06-.94L8.5 2.5l-.94 2.06-2.06.94zm10 10l.94 2.06.94-2.06 2.06-.94-2.06-.94-.94-2.06-.94 2.06-2.06.94z\"/><path d=\"M17.41 7.96l-1.37-1.37c-.4-.4-.92-.59-1.43-.59-.52 0-1.04.2-1.43.59L10.3 9.45l-7.72 7.72c-.78.78-.78 2.05 0 2.83L4 21.41c.39.39.9.59 1.41.59.51 0 1.02-.2 1.41-.59l7.78-7.78 2.81-2.81c.8-.78.8-2.07 0-2.86zM5.41 20L4 18.59l7.72-7.72 1.47 1.35L5.41 20z\"/>\n",
              "  </svg>\n",
              "      </button>\n",
              "      \n",
              "  <style>\n",
              "    .colab-df-container {\n",
              "      display:flex;\n",
              "      flex-wrap:wrap;\n",
              "      gap: 12px;\n",
              "    }\n",
              "\n",
              "    .colab-df-convert {\n",
              "      background-color: #E8F0FE;\n",
              "      border: none;\n",
              "      border-radius: 50%;\n",
              "      cursor: pointer;\n",
              "      display: none;\n",
              "      fill: #1967D2;\n",
              "      height: 32px;\n",
              "      padding: 0 0 0 0;\n",
              "      width: 32px;\n",
              "    }\n",
              "\n",
              "    .colab-df-convert:hover {\n",
              "      background-color: #E2EBFA;\n",
              "      box-shadow: 0px 1px 2px rgba(60, 64, 67, 0.3), 0px 1px 3px 1px rgba(60, 64, 67, 0.15);\n",
              "      fill: #174EA6;\n",
              "    }\n",
              "\n",
              "    [theme=dark] .colab-df-convert {\n",
              "      background-color: #3B4455;\n",
              "      fill: #D2E3FC;\n",
              "    }\n",
              "\n",
              "    [theme=dark] .colab-df-convert:hover {\n",
              "      background-color: #434B5C;\n",
              "      box-shadow: 0px 1px 3px 1px rgba(0, 0, 0, 0.15);\n",
              "      filter: drop-shadow(0px 1px 2px rgba(0, 0, 0, 0.3));\n",
              "      fill: #FFFFFF;\n",
              "    }\n",
              "  </style>\n",
              "\n",
              "      <script>\n",
              "        const buttonEl =\n",
              "          document.querySelector('#df-bd8128d1-97fc-4cf2-ba68-49a4308a8beb button.colab-df-convert');\n",
              "        buttonEl.style.display =\n",
              "          google.colab.kernel.accessAllowed ? 'block' : 'none';\n",
              "\n",
              "        async function convertToInteractive(key) {\n",
              "          const element = document.querySelector('#df-bd8128d1-97fc-4cf2-ba68-49a4308a8beb');\n",
              "          const dataTable =\n",
              "            await google.colab.kernel.invokeFunction('convertToInteractive',\n",
              "                                                     [key], {});\n",
              "          if (!dataTable) return;\n",
              "\n",
              "          const docLinkHtml = 'Like what you see? Visit the ' +\n",
              "            '<a target=\"_blank\" href=https://colab.research.google.com/notebooks/data_table.ipynb>data table notebook</a>'\n",
              "            + ' to learn more about interactive tables.';\n",
              "          element.innerHTML = '';\n",
              "          dataTable['output_type'] = 'display_data';\n",
              "          await google.colab.output.renderOutput(dataTable, element);\n",
              "          const docLink = document.createElement('div');\n",
              "          docLink.innerHTML = docLinkHtml;\n",
              "          element.appendChild(docLink);\n",
              "        }\n",
              "      </script>\n",
              "    </div>\n",
              "  </div>\n",
              "  "
            ]
          },
          "metadata": {},
          "execution_count": 2
        }
      ]
    },
    {
      "cell_type": "markdown",
      "source": [
        "##Informações sobre a base de dados"
      ],
      "metadata": {
        "id": "RhivtPLLWM-q"
      }
    },
    {
      "cell_type": "code",
      "source": [
        "print('Dimensões da base de dados:')\n",
        "print('A base de dados possui {} linhas e {} colunas.'.format(dados.shape[0], dados.shape[1]))\n",
        "print('\\nContendo algumas das seguintes informações:')\n",
        "print('A base de dados apresenta idades mínima de %s até %s anos.' % (dados.Idade.min(), dados.Idade.max()))\n",
        "print('A base de dados apresenta anos de estudos mínimo de %s até %s anos.' % (\n",
        "    dados['Anos de Estudo'].min(), dados['Anos de Estudo'].max())\n",
        ")\n",
        "print('A base de dados apresenta rendas mínima de %s até %s reais.' % (\n",
        "    dados['Renda'].min(), dados['Renda'].max())\n",
        ")\n",
        "print('A base de dados apresenta alturas mínima de %s até %s metro.' % (\n",
        "    round(dados['Altura'].min(),2),round(dados['Altura'].max(),2))\n",
        ")"
      ],
      "metadata": {
        "colab": {
          "base_uri": "https://localhost:8080/"
        },
        "id": "Oy8g_NUjWJrL",
        "outputId": "4e229901-6443-4abc-df52-cd09543c8729"
      },
      "execution_count": 3,
      "outputs": [
        {
          "output_type": "stream",
          "name": "stdout",
          "text": [
            "Dimensões da base de dados:\n",
            "A base de dados possui 76840 linhas e 7 colunas.\n",
            "\n",
            "Contendo algumas das seguintes informações:\n",
            "A base de dados apresenta idades mínima de 13 até 99 anos.\n",
            "A base de dados apresenta anos de estudos mínimo de 1 até 17 anos.\n",
            "A base de dados apresenta rendas mínima de 0 até 200000 reais.\n",
            "A base de dados apresenta alturas mínima de 1.34 até 2.03 metro.\n"
          ]
        }
      ]
    },
    {
      "cell_type": "markdown",
      "source": [
        "##Dados faltantes"
      ],
      "metadata": {
        "id": "1Oy1jpKuWR96"
      }
    },
    {
      "cell_type": "code",
      "source": [
        "dados.isna().sum()"
      ],
      "metadata": {
        "colab": {
          "base_uri": "https://localhost:8080/"
        },
        "id": "wUImIdzFWMDT",
        "outputId": "1e26ece0-dcd9-47a1-9aa2-fee9b779f9e6"
      },
      "execution_count": 4,
      "outputs": [
        {
          "output_type": "execute_result",
          "data": {
            "text/plain": [
              "UF                0\n",
              "Sexo              0\n",
              "Idade             0\n",
              "Cor               0\n",
              "Anos de Estudo    0\n",
              "Renda             0\n",
              "Altura            0\n",
              "dtype: int64"
            ]
          },
          "metadata": {},
          "execution_count": 4
        }
      ]
    },
    {
      "cell_type": "markdown",
      "source": [
        "##Dados nulos"
      ],
      "metadata": {
        "id": "Fmp71d6xWWzB"
      }
    },
    {
      "cell_type": "code",
      "source": [
        "dados.isnull().sum()"
      ],
      "metadata": {
        "colab": {
          "base_uri": "https://localhost:8080/"
        },
        "id": "L4R5fbuWWWNU",
        "outputId": "e7fe3631-71a3-4499-8cc6-a57a29eaf952"
      },
      "execution_count": 5,
      "outputs": [
        {
          "output_type": "execute_result",
          "data": {
            "text/plain": [
              "UF                0\n",
              "Sexo              0\n",
              "Idade             0\n",
              "Cor               0\n",
              "Anos de Estudo    0\n",
              "Renda             0\n",
              "Altura            0\n",
              "dtype: int64"
            ]
          },
          "metadata": {},
          "execution_count": 5
        }
      ]
    },
    {
      "cell_type": "markdown",
      "source": [
        "#Teste de hipóteses"
      ],
      "metadata": {
        "id": "rWs6Q0KNk15l"
      }
    },
    {
      "cell_type": "markdown",
      "source": [
        "##Teste de normalidade"
      ],
      "metadata": {
        "id": "qYZJ3TqTk6M-"
      }
    },
    {
      "cell_type": "markdown",
      "source": [
        "###Definindo a significância do teste (α)"
      ],
      "metadata": {
        "id": "hxooahyXlQ6r"
      }
    },
    {
      "cell_type": "markdown",
      "source": [
        "Observação: os valores mais comuns para α são 10%, 5% e 1%"
      ],
      "metadata": {
        "id": "KAp6DveXqt-a"
      }
    },
    {
      "cell_type": "code",
      "source": [
        "significancia = 0.05"
      ],
      "metadata": {
        "id": "QQ2R3QdKWaAk"
      },
      "execution_count": 6,
      "outputs": []
    },
    {
      "cell_type": "markdown",
      "source": [
        "###Testando a variável Renda"
      ],
      "metadata": {
        "id": "tHL_tDylo6qm"
      }
    },
    {
      "cell_type": "code",
      "source": [
        "dados.Renda.hist(bins = 50)"
      ],
      "metadata": {
        "colab": {
          "base_uri": "https://localhost:8080/",
          "height": 283
        },
        "id": "97qNMALXlegT",
        "outputId": "b319d773-5544-4117-c3bd-7ffedb8b2206"
      },
      "execution_count": 7,
      "outputs": [
        {
          "output_type": "execute_result",
          "data": {
            "text/plain": [
              "<matplotlib.axes._subplots.AxesSubplot at 0x7f59845bda30>"
            ]
          },
          "metadata": {},
          "execution_count": 7
        },
        {
          "output_type": "display_data",
          "data": {
            "text/plain": [
              "<Figure size 432x288 with 1 Axes>"
            ],
            "image/png": "[encoded data removed]"
          },
          "metadata": {
            "needs_background": "light"
          }
        }
      ]
    },
    {
      "cell_type": "markdown",
      "source": [
        "####Critério do valor *p* - Renda"
      ],
      "metadata": {
        "id": "qZ0yMtxClq4s"
      }
    },
    {
      "cell_type": "markdown",
      "source": [
        "Rejeitar ***H<sub>0</sub>*** se o valor de ***p ≤ 0,05***."
      ],
      "metadata": {
        "id": "7gllV_FWl0Kx"
      }
    },
    {
      "cell_type": "markdown",
      "source": [
        "A função ***normaltest*** testa a hipótese nula ***H<sub>0</sub>*** de que a amostra é proveniente de uma distribuição normal."
      ],
      "metadata": {
        "id": "s5ZO8IqAnkPf"
      }
    },
    {
      "cell_type": "code",
      "source": [
        "stat_test_renda, p_valor_renda = normaltest(dados.Renda)\n",
        "print('Stat test: ',stat_test_renda)\n",
        "print('p_valor: ', p_valor_renda)"
      ],
      "metadata": {
        "colab": {
          "base_uri": "https://localhost:8080/"
        },
        "id": "qyrTBoTPlhY8",
        "outputId": "2afd41d9-3bf6-4786-e459-e197ab0fb32e"
      },
      "execution_count": 8,
      "outputs": [
        {
          "output_type": "stream",
          "name": "stdout",
          "text": [
            "Stat test:  152380.75803960307\n",
            "p_valor:  0.0\n"
          ]
        }
      ]
    },
    {
      "cell_type": "markdown",
      "source": [
        "Como p_valor é MENOR que a significância, rejeitamos a Hipótese nula (**H<sub>0</sub>**), ou seja, a amostra não é proveniente da uma amostra normal. \n",
        "___"
      ],
      "metadata": {
        "id": "cYf9lWfNoj_f"
      }
    },
    {
      "cell_type": "markdown",
      "source": [
        "###Testando a variável Altura"
      ],
      "metadata": {
        "id": "vZte99zKpFGs"
      }
    },
    {
      "cell_type": "code",
      "source": [
        "dados.Altura.hist(bins = 50)"
      ],
      "metadata": {
        "colab": {
          "base_uri": "https://localhost:8080/",
          "height": 283
        },
        "id": "TWlDy5H1pM_8",
        "outputId": "ed1d1b4a-28c1-4f2f-a753-12e1dc185548"
      },
      "execution_count": 9,
      "outputs": [
        {
          "output_type": "execute_result",
          "data": {
            "text/plain": [
              "<matplotlib.axes._subplots.AxesSubplot at 0x7f5984424190>"
            ]
          },
          "metadata": {},
          "execution_count": 9
        },
        {
          "output_type": "display_data",
          "data": {
            "text/plain": [
              "<Figure size 432x288 with 1 Axes>"
            ],
            "image/png": "[encoded data removed]"
          },
          "metadata": {
            "needs_background": "light"
          }
        }
      ]
    },
    {
      "cell_type": "markdown",
      "source": [
        "####Critério do valor *p* - Altura"
      ],
      "metadata": {
        "id": "wkTZRATIpIFp"
      }
    },
    {
      "cell_type": "markdown",
      "source": [
        "Rejeitar ***H<sub>0</sub>*** se o valor de ***p ≤ 0,05***."
      ],
      "metadata": {
        "id": "RFgdW0yHpP4Z"
      }
    },
    {
      "cell_type": "markdown",
      "source": [
        "A função ***normaltest*** testa a hipótese nula ***H<sub>0</sub>*** de que a amostra é proveniente de uma distribuição normal."
      ],
      "metadata": {
        "id": "ZkaL2TqQpR28"
      }
    },
    {
      "cell_type": "code",
      "source": [
        "stat_test_altura, p_valor_altura = normaltest(dados.Altura)\n",
        "print('Stat test: ',stat_test_altura)\n",
        "print('p_valor: ', p_valor_altura)"
      ],
      "metadata": {
        "colab": {
          "base_uri": "https://localhost:8080/"
        },
        "id": "rkFq6y8fpGl8",
        "outputId": "c42513ea-6470-4fa2-cf3f-fcdcedfc86d6"
      },
      "execution_count": 10,
      "outputs": [
        {
          "output_type": "stream",
          "name": "stdout",
          "text": [
            "Stat test:  0.19973093957002253\n",
            "p_valor:  0.9049591541967501\n"
          ]
        }
      ]
    },
    {
      "cell_type": "markdown",
      "source": [
        "Como p_valor é MAIOR que a significância, ACEITAMOS a Hipótese nula (**H<sub>0</sub>**), ou seja, a amostra é proveniente da uma amostra normal. \n",
        "___"
      ],
      "metadata": {
        "id": "us0T690epmfi"
      }
    }
  ]
}