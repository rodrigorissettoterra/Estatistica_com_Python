{
  "nbformat": 4,
  "nbformat_minor": 0,
  "metadata": {
    "colab": {
      "provenance": [],
      "toc_visible": true,
      "mount_file_id": "1n5GAjMhgUdkjArsGLcgIxt5zRlODXjtW",
      "authorship_tag": "ABX9TyNXWfhA2X6tBp39qC5a23Mm",
      "include_colab_link": true
    },
    "kernelspec": {
      "name": "python3",
      "display_name": "Python 3"
    },
    "language_info": {
      "name": "python"
    }
  },
  "cells": [
    {
      "cell_type": "markdown",
      "metadata": {
        "id": "view-in-github",
        "colab_type": "text"
      },
      "source": [
        "<a href=\"https://colab.research.google.com/github/rodrigorissettoterra/Estatistica_descritiva_com_Python/blob/main/Estat%C3%ADstica_Teste_de_hip%C3%B3teses.ipynb\" target=\"_parent\"><img src=\"https://colab.research.google.com/assets/colab-badge.svg\" alt=\"Open In Colab\"/></a>"
      ]
    },
    {
      "cell_type": "markdown",
      "source": [
        "#Estatística: Teste de Hipóteses com Python"
      ],
      "metadata": {
        "id": "-nUSZUb2VpfT"
      }
    },
    {
      "cell_type": "markdown",
      "source": [
        "Site referência: https://www.ibge.gov.br/estatisticas/sociais/trabalho/9127-pesquisa-nacional-por-amostra-de-domicilios.html?=&t=microdados"
      ],
      "metadata": {
        "id": "eGyN8c6rVu9f"
      }
    },
    {
      "cell_type": "markdown",
      "source": [
        "##Variáveis utilizadas"
      ],
      "metadata": {
        "id": "tO0KYaRXVxLc"
      }
    },
    {
      "cell_type": "markdown",
      "source": [
        "**Renda:** Rendimento mensal do trabalho principal para pessoas de 10 anos ou mais de idade.</br></br>\n",
        "**Idade:** Idade do morador na data de referência em anos.</br></br>\n",
        "**Altura:** Altura do morador em metros.</br></br>\n",
        "**UF:**</br>\n",
        "\n",
        "|Código|Descrição|\n",
        "|---|---|\n",
        "|11|Rondônia|\n",
        "|12|Acre|\n",
        "|13|Amazonas|\n",
        "|14|Roraima|\n",
        "|15|Pará|\n",
        "|16|Amapá|\n",
        "|17|Tocantins|\n",
        "|21|Maranhão|\n",
        "|22|Piauí|\n",
        "|23|Ceará|\n",
        "|24|Rio Grande do Norte|\n",
        "|25|Paraíba|\n",
        "|26|Pernambuco|\n",
        "|27|Alagoas|\n",
        "|28|Sergipe|\n",
        "|29|Bahia|\n",
        "|31|Minas Gerais|\n",
        "|32|Espírito Santo|\n",
        "|33|Rio de Janeiro|\n",
        "|35|São Paulo|\n",
        "|41|Paraná|\n",
        "|42|Santa Catarina|\n",
        "|43|Rio Grande do Sul|\n",
        "|50|Mato Grosso do Sul|\n",
        "|51|Mato Grosso|\n",
        "|52|Goiás|\n",
        "|53|Distrito Federal|\n",
        "\n",
        "</br></br>\n",
        "**Sexo**\n",
        "\n",
        "|Código|Descrição|\n",
        "|---|---|\n",
        "|0|Masculino|\n",
        "|1|Feminino|\n",
        "\n",
        "</br></br>\n",
        "**Anos de Estudo**\n",
        "\n",
        "|Código|Descrição|\n",
        "|---|---|\n",
        "|1|Sem instrução e menos de 1 ano|\n",
        "|2|1 ano|\n",
        "|3|2 anos|\n",
        "|4|3 anos|\n",
        "|5|4 anos|\n",
        "|6|5 anos|\n",
        "|7|6 anos|\n",
        "|8|7 anos|\n",
        "|9|8 anos|\n",
        "|10|9 anos|\n",
        "|11|10 anos|\n",
        "|12|11 anos|\n",
        "|13|12 anos|\n",
        "|14|13 anos|\n",
        "|15|14 anos|\n",
        "|16|15 anos ou mais|\n",
        "|17|Não determinados| \n",
        "||Não aplicável|\n",
        "\n",
        "</br></br>\n",
        "**Cor**\n",
        "\n",
        "|Código|Descrição|\n",
        "|---|---|\n",
        "|0|Indígena|\n",
        "|2|Branca|\n",
        "|4|Preta|\n",
        "|6|Amarela|\n",
        "|8|Parda|\n",
        "|9|Sem declaração|"
      ],
      "metadata": {
        "id": "e5ZJ52BDVxAy"
      }
    },
    {
      "cell_type": "markdown",
      "source": [
        "##Observação sobre a base de dados\n",
        "\n",
        "> Os seguintes tratamentos foram realizados nos dados originais:\n",
        "> 1. Foram eliminados os registros onde a <b>Renda</b> era inválida (999 999 999 999);\n",
        "> 2. Foram eliminados os registros onde a <b>Renda</b> era missing;\n",
        "> 3. Foram considerados somente os registros das <b>Pessoas de Referência</b> de cada domicílio (responsável pelo domicílio)."
      ],
      "metadata": {
        "id": "kmzFoO6eV2lt"
      }
    },
    {
      "cell_type": "markdown",
      "source": [
        "#Preparando o ambiente"
      ],
      "metadata": {
        "id": "L-KKK6gLV5_Q"
      }
    },
    {
      "cell_type": "markdown",
      "source": [
        "##Importando as bibliotecas necessárias"
      ],
      "metadata": {
        "id": "0am9g3baV9_U"
      }
    },
    {
      "cell_type": "code",
      "execution_count": 14,
      "metadata": {
        "id": "NX8xkV9KS3RF"
      },
      "outputs": [],
      "source": [
        "import pandas as pd\n",
        "import numpy as np\n",
        "from scipy.stats import norm\n",
        "from statsmodels.stats.weightstats import DescrStatsW, CompareMeans"
      ]
    },
    {
      "cell_type": "markdown",
      "source": [
        "##Carregando a base de dados"
      ],
      "metadata": {
        "id": "9zRRjYQdWH_A"
      }
    },
    {
      "cell_type": "code",
      "source": [
        "dados = pd.read_csv('/content/drive/MyDrive/Base de dados/IBGE/dados.csv')\n",
        "dados.head()"
      ],
      "metadata": {
        "colab": {
          "base_uri": "https://localhost:8080/",
          "height": 206
        },
        "id": "BGnOrWVGWHgN",
        "outputId": "fe7ee7f2-14d8-4d19-ef9f-f788e51099aa"
      },
      "execution_count": 15,
      "outputs": [
        {
          "output_type": "execute_result",
          "data": {
            "text/plain": [
              "   UF  Sexo  Idade  Cor  Anos de Estudo  Renda    Altura\n",
              "0  11     0     23    8              12    800  1.603808\n",
              "1  11     1     23    2              12   1150  1.739790\n",
              "2  11     1     35    8              15    880  1.760444\n",
              "3  11     0     46    2               6   3500  1.783158\n",
              "4  11     1     47    8               9    150  1.690631"
            ],
            "text/html": [
              "\n",
              "  <div id=\"df-3cabc61d-c5bc-45ac-a878-48d6132677e6\">\n",
              "    <div class=\"colab-df-container\">\n",
              "      <div>\n",
              "<style scoped>\n",
              "    .dataframe tbody tr th:only-of-type {\n",
              "        vertical-align: middle;\n",
              "    }\n",
              "\n",
              "    .dataframe tbody tr th {\n",
              "        vertical-align: top;\n",
              "    }\n",
              "\n",
              "    .dataframe thead th {\n",
              "        text-align: right;\n",
              "    }\n",
              "</style>\n",
              "<table border=\"1\" class=\"dataframe\">\n",
              "  <thead>\n",
              "    <tr style=\"text-align: right;\">\n",
              "      <th></th>\n",
              "      <th>UF</th>\n",
              "      <th>Sexo</th>\n",
              "      <th>Idade</th>\n",
              "      <th>Cor</th>\n",
              "      <th>Anos de Estudo</th>\n",
              "      <th>Renda</th>\n",
              "      <th>Altura</th>\n",
              "    </tr>\n",
              "  </thead>\n",
              "  <tbody>\n",
              "    <tr>\n",
              "      <th>0</th>\n",
              "      <td>11</td>\n",
              "      <td>0</td>\n",
              "      <td>23</td>\n",
              "      <td>8</td>\n",
              "      <td>12</td>\n",
              "      <td>800</td>\n",
              "      <td>1.603808</td>\n",
              "    </tr>\n",
              "    <tr>\n",
              "      <th>1</th>\n",
              "      <td>11</td>\n",
              "      <td>1</td>\n",
              "      <td>23</td>\n",
              "      <td>2</td>\n",
              "      <td>12</td>\n",
              "      <td>1150</td>\n",
              "      <td>1.739790</td>\n",
              "    </tr>\n",
              "    <tr>\n",
              "      <th>2</th>\n",
              "      <td>11</td>\n",
              "      <td>1</td>\n",
              "      <td>35</td>\n",
              "      <td>8</td>\n",
              "      <td>15</td>\n",
              "      <td>880</td>\n",
              "      <td>1.760444</td>\n",
              "    </tr>\n",
              "    <tr>\n",
              "      <th>3</th>\n",
              "      <td>11</td>\n",
              "      <td>0</td>\n",
              "      <td>46</td>\n",
              "      <td>2</td>\n",
              "      <td>6</td>\n",
              "      <td>3500</td>\n",
              "      <td>1.783158</td>\n",
              "    </tr>\n",
              "    <tr>\n",
              "      <th>4</th>\n",
              "      <td>11</td>\n",
              "      <td>1</td>\n",
              "      <td>47</td>\n",
              "      <td>8</td>\n",
              "      <td>9</td>\n",
              "      <td>150</td>\n",
              "      <td>1.690631</td>\n",
              "    </tr>\n",
              "  </tbody>\n",
              "</table>\n",
              "</div>\n",
              "      <button class=\"colab-df-convert\" onclick=\"convertToInteractive('df-3cabc61d-c5bc-45ac-a878-48d6132677e6')\"\n",
              "              title=\"Convert this dataframe to an interactive table.\"\n",
              "              style=\"display:none;\">\n",
              "        \n",
              "  <svg xmlns=\"http://www.w3.org/2000/svg\" height=\"24px\"viewBox=\"0 0 24 24\"\n",
              "       width=\"24px\">\n",
              "    <path d=\"M0 0h24v24H0V0z\" fill=\"none\"/>\n",
              "    <path d=\"M18.56 5.44l.94 2.06.94-2.06 2.06-.94-2.06-.94-.94-2.06-.94 2.06-2.06.94zm-11 1L8.5 8.5l.94-2.06 2.06-.94-2.06-.94L8.5 2.5l-.94 2.06-2.06.94zm10 10l.94 2.06.94-2.06 2.06-.94-2.06-.94-.94-2.06-.94 2.06-2.06.94z\"/><path d=\"M17.41 7.96l-1.37-1.37c-.4-.4-.92-.59-1.43-.59-.52 0-1.04.2-1.43.59L10.3 9.45l-7.72 7.72c-.78.78-.78 2.05 0 2.83L4 21.41c.39.39.9.59 1.41.59.51 0 1.02-.2 1.41-.59l7.78-7.78 2.81-2.81c.8-.78.8-2.07 0-2.86zM5.41 20L4 18.59l7.72-7.72 1.47 1.35L5.41 20z\"/>\n",
              "  </svg>\n",
              "      </button>\n",
              "      \n",
              "  <style>\n",
              "    .colab-df-container {\n",
              "      display:flex;\n",
              "      flex-wrap:wrap;\n",
              "      gap: 12px;\n",
              "    }\n",
              "\n",
              "    .colab-df-convert {\n",
              "      background-color: #E8F0FE;\n",
              "      border: none;\n",
              "      border-radius: 50%;\n",
              "      cursor: pointer;\n",
              "      display: none;\n",
              "      fill: #1967D2;\n",
              "      height: 32px;\n",
              "      padding: 0 0 0 0;\n",
              "      width: 32px;\n",
              "    }\n",
              "\n",
              "    .colab-df-convert:hover {\n",
              "      background-color: #E2EBFA;\n",
              "      box-shadow: 0px 1px 2px rgba(60, 64, 67, 0.3), 0px 1px 3px 1px rgba(60, 64, 67, 0.15);\n",
              "      fill: #174EA6;\n",
              "    }\n",
              "\n",
              "    [theme=dark] .colab-df-convert {\n",
              "      background-color: #3B4455;\n",
              "      fill: #D2E3FC;\n",
              "    }\n",
              "\n",
              "    [theme=dark] .colab-df-convert:hover {\n",
              "      background-color: #434B5C;\n",
              "      box-shadow: 0px 1px 3px 1px rgba(0, 0, 0, 0.15);\n",
              "      filter: drop-shadow(0px 1px 2px rgba(0, 0, 0, 0.3));\n",
              "      fill: #FFFFFF;\n",
              "    }\n",
              "  </style>\n",
              "\n",
              "      <script>\n",
              "        const buttonEl =\n",
              "          document.querySelector('#df-3cabc61d-c5bc-45ac-a878-48d6132677e6 button.colab-df-convert');\n",
              "        buttonEl.style.display =\n",
              "          google.colab.kernel.accessAllowed ? 'block' : 'none';\n",
              "\n",
              "        async function convertToInteractive(key) {\n",
              "          const element = document.querySelector('#df-3cabc61d-c5bc-45ac-a878-48d6132677e6');\n",
              "          const dataTable =\n",
              "            await google.colab.kernel.invokeFunction('convertToInteractive',\n",
              "                                                     [key], {});\n",
              "          if (!dataTable) return;\n",
              "\n",
              "          const docLinkHtml = 'Like what you see? Visit the ' +\n",
              "            '<a target=\"_blank\" href=https://colab.research.google.com/notebooks/data_table.ipynb>data table notebook</a>'\n",
              "            + ' to learn more about interactive tables.';\n",
              "          element.innerHTML = '';\n",
              "          dataTable['output_type'] = 'display_data';\n",
              "          await google.colab.output.renderOutput(dataTable, element);\n",
              "          const docLink = document.createElement('div');\n",
              "          docLink.innerHTML = docLinkHtml;\n",
              "          element.appendChild(docLink);\n",
              "        }\n",
              "      </script>\n",
              "    </div>\n",
              "  </div>\n",
              "  "
            ]
          },
          "metadata": {},
          "execution_count": 15
        }
      ]
    },
    {
      "cell_type": "markdown",
      "source": [
        "##Informações sobre a base de dados"
      ],
      "metadata": {
        "id": "RhivtPLLWM-q"
      }
    },
    {
      "cell_type": "code",
      "source": [
        "print('Dimensões da base de dados:')\n",
        "print('A base de dados possui {} linhas e {} colunas.'.format(dados.shape[0], dados.shape[1]))\n",
        "print('\\nContendo algumas das seguintes informações:')\n",
        "print('A base de dados apresenta idades mínima de %s até %s anos.' % (dados.Idade.min(), dados.Idade.max()))\n",
        "print('A base de dados apresenta anos de estudos mínimo de %s até %s anos.' % (\n",
        "    dados['Anos de Estudo'].min(), dados['Anos de Estudo'].max())\n",
        ")\n",
        "print('A base de dados apresenta rendas mínima de %s até %s reais.' % (\n",
        "    dados['Renda'].min(), dados['Renda'].max())\n",
        ")\n",
        "print('A base de dados apresenta alturas mínima de %s até %s metro.' % (\n",
        "    round(dados['Altura'].min(),2),round(dados['Altura'].max(),2))\n",
        ")"
      ],
      "metadata": {
        "colab": {
          "base_uri": "https://localhost:8080/"
        },
        "id": "Oy8g_NUjWJrL",
        "outputId": "a8b29571-69ff-4fc4-baad-d75a21660ee0"
      },
      "execution_count": 16,
      "outputs": [
        {
          "output_type": "stream",
          "name": "stdout",
          "text": [
            "Dimensões da base de dados:\n",
            "A base de dados possui 76840 linhas e 7 colunas.\n",
            "\n",
            "Contendo algumas das seguintes informações:\n",
            "A base de dados apresenta idades mínima de 13 até 99 anos.\n",
            "A base de dados apresenta anos de estudos mínimo de 1 até 17 anos.\n",
            "A base de dados apresenta rendas mínima de 0 até 200000 reais.\n",
            "A base de dados apresenta alturas mínima de 1.34 até 2.03 metro.\n"
          ]
        }
      ]
    },
    {
      "cell_type": "markdown",
      "source": [
        "##Dados faltantes"
      ],
      "metadata": {
        "id": "1Oy1jpKuWR96"
      }
    },
    {
      "cell_type": "code",
      "source": [
        "dados.isna().sum()"
      ],
      "metadata": {
        "colab": {
          "base_uri": "https://localhost:8080/"
        },
        "id": "wUImIdzFWMDT",
        "outputId": "278aa84a-50fe-4b05-bc88-0bed56823d7a"
      },
      "execution_count": 17,
      "outputs": [
        {
          "output_type": "execute_result",
          "data": {
            "text/plain": [
              "UF                0\n",
              "Sexo              0\n",
              "Idade             0\n",
              "Cor               0\n",
              "Anos de Estudo    0\n",
              "Renda             0\n",
              "Altura            0\n",
              "dtype: int64"
            ]
          },
          "metadata": {},
          "execution_count": 17
        }
      ]
    },
    {
      "cell_type": "markdown",
      "source": [
        "##Dados nulos"
      ],
      "metadata": {
        "id": "Fmp71d6xWWzB"
      }
    },
    {
      "cell_type": "code",
      "source": [
        "dados.isnull().sum()"
      ],
      "metadata": {
        "colab": {
          "base_uri": "https://localhost:8080/"
        },
        "id": "L4R5fbuWWWNU",
        "outputId": "037ab4fe-4826-4f88-bdcb-7d84f6d2f139"
      },
      "execution_count": 18,
      "outputs": [
        {
          "output_type": "execute_result",
          "data": {
            "text/plain": [
              "UF                0\n",
              "Sexo              0\n",
              "Idade             0\n",
              "Cor               0\n",
              "Anos de Estudo    0\n",
              "Renda             0\n",
              "Altura            0\n",
              "dtype: int64"
            ]
          },
          "metadata": {},
          "execution_count": 18
        }
      ]
    },
    {
      "cell_type": "markdown",
      "source": [
        "#Teste de hipóteses"
      ],
      "metadata": {
        "id": "rWs6Q0KNk15l"
      }
    },
    {
      "cell_type": "markdown",
      "source": [
        "##Teste de normalidade"
      ],
      "metadata": {
        "id": "qYZJ3TqTk6M-"
      }
    },
    {
      "cell_type": "markdown",
      "source": [
        "###Definindo a significância do teste (α)"
      ],
      "metadata": {
        "id": "hxooahyXlQ6r"
      }
    },
    {
      "cell_type": "markdown",
      "source": [
        "Observação: os valores mais comuns para α são 10%, 5% e 1%"
      ],
      "metadata": {
        "id": "KAp6DveXqt-a"
      }
    },
    {
      "cell_type": "code",
      "source": [
        "significancia = 0.05"
      ],
      "metadata": {
        "id": "QQ2R3QdKWaAk"
      },
      "execution_count": 19,
      "outputs": []
    },
    {
      "cell_type": "markdown",
      "source": [
        "###Testando a variável Renda"
      ],
      "metadata": {
        "id": "tHL_tDylo6qm"
      }
    },
    {
      "cell_type": "code",
      "source": [
        "dados.Renda.hist(bins = 50)"
      ],
      "metadata": {
        "colab": {
          "base_uri": "https://localhost:8080/",
          "height": 283
        },
        "id": "97qNMALXlegT",
        "outputId": "83aefbc9-33b8-4a13-e00d-9a0a84ac182c"
      },
      "execution_count": 20,
      "outputs": [
        {
          "output_type": "execute_result",
          "data": {
            "text/plain": [
              "<matplotlib.axes._subplots.AxesSubplot at 0x7f59833bd760>"
            ]
          },
          "metadata": {},
          "execution_count": 20
        },
        {
          "output_type": "display_data",
          "data": {
            "text/plain": [
              "<Figure size 432x288 with 1 Axes>"
            ],
            "image/png": "[encoded data removed]"
          },
          "metadata": {
            "needs_background": "light"
          }
        }
      ]
    },
    {
      "cell_type": "markdown",
      "source": [
        "####Critério do valor *p* - Renda"
      ],
      "metadata": {
        "id": "qZ0yMtxClq4s"
      }
    },
    {
      "cell_type": "markdown",
      "source": [
        "Rejeitar ***H<sub>0</sub>*** se o valor de ***p ≤ 0,05***."
      ],
      "metadata": {
        "id": "7gllV_FWl0Kx"
      }
    },
    {
      "cell_type": "markdown",
      "source": [
        "A função ***normaltest*** testa a hipótese nula ***H<sub>0</sub>*** de que a amostra é proveniente de uma distribuição normal."
      ],
      "metadata": {
        "id": "s5ZO8IqAnkPf"
      }
    },
    {
      "cell_type": "code",
      "source": [
        "stat_test_renda, p_valor_renda = normaltest(dados.Renda)\n",
        "print('Stat test: ',stat_test_renda)\n",
        "print('p_valor: ', p_valor_renda)"
      ],
      "metadata": {
        "colab": {
          "base_uri": "https://localhost:8080/"
        },
        "id": "qyrTBoTPlhY8",
        "outputId": "7b1c5da8-0f48-466c-d84f-336fed942656"
      },
      "execution_count": 21,
      "outputs": [
        {
          "output_type": "stream",
          "name": "stdout",
          "text": [
            "Stat test:  152380.75803960307\n",
            "p_valor:  0.0\n"
          ]
        }
      ]
    },
    {
      "cell_type": "markdown",
      "source": [
        "Como p_valor é MENOR que a significância, rejeitamos a Hipótese nula (**H<sub>0</sub>**), ou seja, a amostra não é proveniente da uma amostra normal. \n",
        "___"
      ],
      "metadata": {
        "id": "cYf9lWfNoj_f"
      }
    },
    {
      "cell_type": "markdown",
      "source": [
        "###Testando a variável Altura"
      ],
      "metadata": {
        "id": "vZte99zKpFGs"
      }
    },
    {
      "cell_type": "code",
      "source": [
        "dados.Altura.hist(bins = 50)"
      ],
      "metadata": {
        "colab": {
          "base_uri": "https://localhost:8080/",
          "height": 283
        },
        "id": "TWlDy5H1pM_8",
        "outputId": "8147a853-d1eb-475c-c75a-e1b6e1d3f76d"
      },
      "execution_count": 22,
      "outputs": [
        {
          "output_type": "execute_result",
          "data": {
            "text/plain": [
              "<matplotlib.axes._subplots.AxesSubplot at 0x7f59832b29a0>"
            ]
          },
          "metadata": {},
          "execution_count": 22
        },
        {
          "output_type": "display_data",
          "data": {
            "text/plain": [
              "<Figure size 432x288 with 1 Axes>"
            ],
            "image/png": "[encoded data removed]"
          },
          "metadata": {
            "needs_background": "light"
          }
        }
      ]
    },
    {
      "cell_type": "markdown",
      "source": [
        "####Critério do valor *p* - Altura"
      ],
      "metadata": {
        "id": "wkTZRATIpIFp"
      }
    },
    {
      "cell_type": "markdown",
      "source": [
        "Rejeitar ***H<sub>0</sub>*** se o valor de ***p ≤ 0,05***."
      ],
      "metadata": {
        "id": "RFgdW0yHpP4Z"
      }
    },
    {
      "cell_type": "markdown",
      "source": [
        "A função ***normaltest*** testa a hipótese nula ***H<sub>0</sub>*** de que a amostra é proveniente de uma distribuição normal."
      ],
      "metadata": {
        "id": "ZkaL2TqQpR28"
      }
    },
    {
      "cell_type": "code",
      "source": [
        "stat_test_altura, p_valor_altura = normaltest(dados.Altura)\n",
        "print('Stat test: ',stat_test_altura)\n",
        "print('p_valor: ', p_valor_altura)"
      ],
      "metadata": {
        "colab": {
          "base_uri": "https://localhost:8080/"
        },
        "id": "rkFq6y8fpGl8",
        "outputId": "bafc0d07-a83c-4c62-93bf-323d527710ec"
      },
      "execution_count": 23,
      "outputs": [
        {
          "output_type": "stream",
          "name": "stdout",
          "text": [
            "Stat test:  0.19973093957002253\n",
            "p_valor:  0.9049591541967501\n"
          ]
        }
      ]
    },
    {
      "cell_type": "markdown",
      "source": [
        "Como p_valor é MAIOR que a significância, ACEITAMOS a Hipótese nula (**H<sub>0</sub>**), ou seja, a amostra é proveniente da uma amostra normal. \n",
        "___"
      ],
      "metadata": {
        "id": "us0T690epmfi"
      }
    },
    {
      "cell_type": "markdown",
      "source": [
        "#Renda de SP com RJ"
      ],
      "metadata": {
        "id": "26nCZvbaLUIN"
      }
    },
    {
      "cell_type": "markdown",
      "source": [
        "##Selecionando 2 amostras de 500 respondentes de cada estado"
      ],
      "metadata": {
        "id": "xvXM7BA9L39b"
      }
    },
    {
      "cell_type": "code",
      "source": [
        "rj = dados.query('UF == 33').sample(n = 500, random_state = 101).Renda\n",
        "sp = dados.query('UF == 35').sample(n = 500, random_state = 101).Renda"
      ],
      "metadata": {
        "id": "9iN-0XPGLWuw"
      },
      "execution_count": 40,
      "outputs": []
    },
    {
      "cell_type": "markdown",
      "source": [
        "##Média e Desvio padrão das duas amostras"
      ],
      "metadata": {
        "id": "DgltpUkWMLTH"
      }
    },
    {
      "cell_type": "code",
      "source": [
        "media_renda_rj = rj.mean()\n",
        "media_renda_sp = sp.mean()\n",
        "dp_renda_rj = rj.std()\n",
        "dp_renda_sp = sp.std()\n",
        "\n",
        "print('O salário médio de 500 amostras do estado do RJ é de: {} +/- {}'.format(media_renda_rj, round(dp_renda_rj,3)))\n",
        "print('O salário médio de 500 amostras do estado do SP é de: {} +/- {}'.format(media_renda_sp, round(dp_renda_sp,3)))"
      ],
      "metadata": {
        "colab": {
          "base_uri": "https://localhost:8080/"
        },
        "id": "TS76ppoEMGxp",
        "outputId": "e0295de8-383c-48c9-ab9c-e4e919738047"
      },
      "execution_count": 37,
      "outputs": [
        {
          "output_type": "stream",
          "name": "stdout",
          "text": [
            "O salário médio de 500 amostras do estado do RJ é de: 2240.518 +/- 4643.836\n",
            "O salário médio de 500 amostras do estado do SP é de: 2839.352 +/- 3699.384\n"
          ]
        }
      ]
    },
    {
      "cell_type": "markdown",
      "source": [
        "##Definindo valores para os testes"
      ],
      "metadata": {
        "id": "wB9caIaHMumP"
      }
    },
    {
      "cell_type": "code",
      "source": [
        "significancia = 0.05\n",
        "confianca = 1- significancia\n",
        "n_rj = len(rj)\n",
        "n_sp = len(sp)\n",
        "D_0 = 0"
      ],
      "metadata": {
        "id": "x67T1wyrMguB"
      },
      "execution_count": 43,
      "outputs": []
    },
    {
      "cell_type": "markdown",
      "source": [
        "##Teste de hipótese"
      ],
      "metadata": {
        "id": "CYxi3B6FOg30"
      }
    },
    {
      "cell_type": "markdown",
      "source": [
        "***μ<sub>1</sub>*** → Rendimento médio do estado do Rio de Janeiro.</br>\n",
        "***μ<sub>2</sub>*** → Rendimento médio do estado de São Paulo.\n",
        "</br></br>\n",
        "\n",
        "***H<sub>0</sub>*** : *μ<sub>1</sub>* ≥ *μ<sub>2</sub>*</br>\n",
        "***H<sub>1</sub>*** : *μ<sub>1</sub>* < *μ<sub>2</sub>*</br></br>\n",
        "\n",
        "ou</br></br>\n",
        "\n",
        "***H<sub>0</sub>*** : *μ<sub>1</sub>* - *μ<sub>2</sub>* ≥ 0</br>\n",
        "***H<sub>1</sub>*** : *μ<sub>1</sub>* - *μ<sub>2</sub>* < 0</br></br>\n"
      ],
      "metadata": {
        "id": "BUhjk75xOl4t"
      }
    },
    {
      "cell_type": "markdown",
      "source": [
        "###Fixação da significância do teste (α)"
      ],
      "metadata": {
        "id": "t-T5anNLQCbi"
      }
    },
    {
      "cell_type": "code",
      "source": [
        "probabilidade = significancia\n",
        "z_alpha = round(norm.ppf(probabilidade),2)\n",
        "z_alpha"
      ],
      "metadata": {
        "colab": {
          "base_uri": "https://localhost:8080/"
        },
        "id": "EnkHkv0RONxJ",
        "outputId": "0e0ffac3-b8e5-4de2-f866-8403fad03d3c"
      },
      "execution_count": 46,
      "outputs": [
        {
          "output_type": "execute_result",
          "data": {
            "text/plain": [
              "-1.64"
            ]
          },
          "metadata": {},
          "execution_count": 46
        }
      ]
    },
    {
      "cell_type": "markdown",
      "source": [
        "![teste_de_hipótese.png](data:image/png;base64,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)"
      ],
      "metadata": {
        "id": "fX9qEp_MQ8Ag"
      }
    },
    {
      "cell_type": "markdown",
      "source": [
        "##Cáculo da estatística-teste e verificação desse valor com as áreas de aceitação / rejeição do teste"
      ],
      "metadata": {
        "id": "UW41GSPXRRTN"
      }
    },
    {
      "cell_type": "code",
      "source": [
        "numerador = (media_renda_rj - media_renda_sp) - D_0\n",
        "denominador = np.sqrt((dp_renda_rj ** 2 / n_rj) + (dp_renda_sp ** 2 / n_sp))\n",
        "z = numerador / denominador\n",
        "z"
      ],
      "metadata": {
        "colab": {
          "base_uri": "https://localhost:8080/"
        },
        "id": "dWSEZqeIQWGp",
        "outputId": "01003b52-7f65-4b48-aad8-5b57b6479ef3"
      },
      "execution_count": 49,
      "outputs": [
        {
          "output_type": "execute_result",
          "data": {
            "text/plain": [
              "-2.255318273608558"
            ]
          },
          "metadata": {},
          "execution_count": 49
        }
      ]
    },
    {
      "cell_type": "markdown",
      "source": [
        "![teste_de_hipótese_II.png](data:image/png;base64,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)"
      ],
      "metadata": {
        "id": "-Oc-YmcqSPmy"
      }
    },
    {
      "cell_type": "markdown",
      "source": [
        "##Aceitação / Rejeição de ***H<sub>0</sub>***"
      ],
      "metadata": {
        "id": "KRkz9uPmSS6J"
      }
    },
    {
      "cell_type": "code",
      "source": [
        "z <= z_alpha"
      ],
      "metadata": {
        "colab": {
          "base_uri": "https://localhost:8080/"
        },
        "id": "kgKD_z-6Rz95",
        "outputId": "358921e4-d5a4-420f-9428-083bcb9daa7d"
      },
      "execution_count": 50,
      "outputs": [
        {
          "output_type": "execute_result",
          "data": {
            "text/plain": [
              "True"
            ]
          },
          "metadata": {},
          "execution_count": 50
        }
      ]
    },
    {
      "cell_type": "markdown",
      "source": [
        "##Valor *p*"
      ],
      "metadata": {
        "id": "CMndlY92S0Mv"
      }
    },
    {
      "cell_type": "code",
      "source": [
        "teste_rj = DescrStatsW(rj)\n",
        "teste_sp = DescrStatsW(sp)\n",
        "teste_A = teste_rj.get_compare(teste_sp)"
      ],
      "metadata": {
        "id": "iC1CwXsNSjTR"
      },
      "execution_count": 52,
      "outputs": []
    },
    {
      "cell_type": "code",
      "source": [
        "z, p_value = teste_A.ztest_ind(alternative = 'smaller', value = 0)\n",
        "print('Estatística z → ', z)\n",
        "print('p_value → ',p_value)"
      ],
      "metadata": {
        "colab": {
          "base_uri": "https://localhost:8080/"
        },
        "id": "9E5_jDkLTC7R",
        "outputId": "ff03364a-097b-4325-dcb0-fc54fa35e7a7"
      },
      "execution_count": 55,
      "outputs": [
        {
          "output_type": "stream",
          "name": "stdout",
          "text": [
            "Estatística z →  -2.255318273608558\n",
            "p_value →  0.012056679215693396\n"
          ]
        }
      ]
    },
    {
      "cell_type": "code",
      "source": [
        "p_value <= significancia"
      ],
      "metadata": {
        "colab": {
          "base_uri": "https://localhost:8080/"
        },
        "id": "Rwam-uHMTWap",
        "outputId": "d61867c8-1fe5-469c-c581-79c085411742"
      },
      "execution_count": 56,
      "outputs": [
        {
          "output_type": "execute_result",
          "data": {
            "text/plain": [
              "True"
            ]
          },
          "metadata": {},
          "execution_count": 56
        }
      ]
    },
    {
      "cell_type": "markdown",
      "source": [
        "#Conclusão"
      ],
      "metadata": {
        "id": "p-dOdHruTlV1"
      }
    },
    {
      "cell_type": "markdown",
      "source": [
        "Com um nível de confiança de 95%, rejeitamos ***H<sub>0</sub>***, isto é, concluímos que a renda média no estado do Rio de Janeiro é ***MENOR*** que a renda média no estado de São Paulo."
      ],
      "metadata": {
        "id": "boVoxHA5TnS5"
      }
    }
  ]
}